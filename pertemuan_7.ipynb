{
 "cells": [
  {
   "cell_type": "code",
   "execution_count": 1,
   "id": "83d8eb75-d7ae-4367-a270-9a9c51fc0545",
   "metadata": {},
   "outputs": [],
   "source": [
    "import pandas as pd\n",
    "from sklearn.model_selection import train_test_split\n",
    "from sklearn.preprocessing import StandardScaler\n",
    "import numpy as np\n",
    "\n",
    "# Pastikan file 'processed_kelulusan.csv' ada di direktori yang sama\n",
    "try:\n",
    "    df = pd.read_csv(\"processed_kelulusan.csv\")\n",
    "except FileNotFoundError:\n",
    "    print(\"Error: processed_kelulusan.csv tidak ditemukan.\")\n",
    "    exit()\n",
    "\n",
    "X = df.drop(\"Lulus\", axis=1)\n",
    "y = df[\"Lulus\"]\n",
    "\n",
    "# Penskalaan (Standardization)\n",
    "sc = StandardScaler()\n",
    "Xs = sc.fit_transform(X)\n",
    "\n",
    "# Pembagian data dua tahap: Train (70%), Val (15%), Test (15%)\n",
    "# 1. Pisahkan 15% untuk Test Set\n",
    "X_train_val, X_test, y_train_val, y_test = train_test_split(\n",
    "    Xs, y, test_size=0.15, stratify=y, random_state=42)"
   ]
  },
  {
   "cell_type": "code",
   "execution_count": 2,
   "id": "ae80e583-3a10-438a-b3bf-6f4d327a65ee",
   "metadata": {},
   "outputs": [
    {
     "name": "stdout",
     "output_type": "stream",
     "text": [
      "Shape Data:\n",
      "Train: (6, 5)\n",
      "Validation: (2, 5)\n",
      "Test: (2, 5)\n",
      "--------------------------------------------------\n"
     ]
    }
   ],
   "source": [
    "# Perbandingan: 15% / 85% ≈ 0.1765\n",
    "X_train, X_val, y_train, y_val = train_test_split(\n",
    "    X_train_val, y_train_val, test_size=(0.15/0.85), stratify=y_train_val, random_state=42)\n",
    "\n",
    "print(f\"Shape Data:\\nTrain: {X_train.shape}\\nValidation: {X_val.shape}\\nTest: {X_test.shape}\")\n",
    "print(\"-\" * 50)"
   ]
  },
  {
   "cell_type": "code",
   "execution_count": 3,
   "id": "1f539b06-e8d6-4ee4-bbb6-4e6e79079fdf",
   "metadata": {},
   "outputs": [
    {
     "name": "stdout",
     "output_type": "stream",
     "text": [
      "Model Summary:\n"
     ]
    },
    {
     "data": {
      "text/html": [
       "<pre style=\"white-space:pre;overflow-x:auto;line-height:normal;font-family:Menlo,'DejaVu Sans Mono',consolas,'Courier New',monospace\"><span style=\"font-weight: bold\">Model: \"sequential\"</span>\n",
       "</pre>\n"
      ],
      "text/plain": [
       "\u001b[1mModel: \"sequential\"\u001b[0m\n"
      ]
     },
     "metadata": {},
     "output_type": "display_data"
    },
    {
     "data": {
      "text/html": [
       "<pre style=\"white-space:pre;overflow-x:auto;line-height:normal;font-family:Menlo,'DejaVu Sans Mono',consolas,'Courier New',monospace\">┏━━━━━━━━━━━━━━━━━━━━━━━━━━━━━━━━━━━━━━┳━━━━━━━━━━━━━━━━━━━━━━━━━━━━━┳━━━━━━━━━━━━━━━━━┓\n",
       "┃<span style=\"font-weight: bold\"> Layer (type)                         </span>┃<span style=\"font-weight: bold\"> Output Shape                </span>┃<span style=\"font-weight: bold\">         Param # </span>┃\n",
       "┡━━━━━━━━━━━━━━━━━━━━━━━━━━━━━━━━━━━━━━╇━━━━━━━━━━━━━━━━━━━━━━━━━━━━━╇━━━━━━━━━━━━━━━━━┩\n",
       "│ dense (<span style=\"color: #0087ff; text-decoration-color: #0087ff\">Dense</span>)                        │ (<span style=\"color: #00d7ff; text-decoration-color: #00d7ff\">None</span>, <span style=\"color: #00af00; text-decoration-color: #00af00\">32</span>)                  │             <span style=\"color: #00af00; text-decoration-color: #00af00\">192</span> │\n",
       "├──────────────────────────────────────┼─────────────────────────────┼─────────────────┤\n",
       "│ dropout (<span style=\"color: #0087ff; text-decoration-color: #0087ff\">Dropout</span>)                    │ (<span style=\"color: #00d7ff; text-decoration-color: #00d7ff\">None</span>, <span style=\"color: #00af00; text-decoration-color: #00af00\">32</span>)                  │               <span style=\"color: #00af00; text-decoration-color: #00af00\">0</span> │\n",
       "├──────────────────────────────────────┼─────────────────────────────┼─────────────────┤\n",
       "│ dense_1 (<span style=\"color: #0087ff; text-decoration-color: #0087ff\">Dense</span>)                      │ (<span style=\"color: #00d7ff; text-decoration-color: #00d7ff\">None</span>, <span style=\"color: #00af00; text-decoration-color: #00af00\">16</span>)                  │             <span style=\"color: #00af00; text-decoration-color: #00af00\">528</span> │\n",
       "├──────────────────────────────────────┼─────────────────────────────┼─────────────────┤\n",
       "│ dense_2 (<span style=\"color: #0087ff; text-decoration-color: #0087ff\">Dense</span>)                      │ (<span style=\"color: #00d7ff; text-decoration-color: #00d7ff\">None</span>, <span style=\"color: #00af00; text-decoration-color: #00af00\">1</span>)                   │              <span style=\"color: #00af00; text-decoration-color: #00af00\">17</span> │\n",
       "└──────────────────────────────────────┴─────────────────────────────┴─────────────────┘\n",
       "</pre>\n"
      ],
      "text/plain": [
       "┏━━━━━━━━━━━━━━━━━━━━━━━━━━━━━━━━━━━━━━┳━━━━━━━━━━━━━━━━━━━━━━━━━━━━━┳━━━━━━━━━━━━━━━━━┓\n",
       "┃\u001b[1m \u001b[0m\u001b[1mLayer (type)                        \u001b[0m\u001b[1m \u001b[0m┃\u001b[1m \u001b[0m\u001b[1mOutput Shape               \u001b[0m\u001b[1m \u001b[0m┃\u001b[1m \u001b[0m\u001b[1m        Param #\u001b[0m\u001b[1m \u001b[0m┃\n",
       "┡━━━━━━━━━━━━━━━━━━━━━━━━━━━━━━━━━━━━━━╇━━━━━━━━━━━━━━━━━━━━━━━━━━━━━╇━━━━━━━━━━━━━━━━━┩\n",
       "│ dense (\u001b[38;5;33mDense\u001b[0m)                        │ (\u001b[38;5;45mNone\u001b[0m, \u001b[38;5;34m32\u001b[0m)                  │             \u001b[38;5;34m192\u001b[0m │\n",
       "├──────────────────────────────────────┼─────────────────────────────┼─────────────────┤\n",
       "│ dropout (\u001b[38;5;33mDropout\u001b[0m)                    │ (\u001b[38;5;45mNone\u001b[0m, \u001b[38;5;34m32\u001b[0m)                  │               \u001b[38;5;34m0\u001b[0m │\n",
       "├──────────────────────────────────────┼─────────────────────────────┼─────────────────┤\n",
       "│ dense_1 (\u001b[38;5;33mDense\u001b[0m)                      │ (\u001b[38;5;45mNone\u001b[0m, \u001b[38;5;34m16\u001b[0m)                  │             \u001b[38;5;34m528\u001b[0m │\n",
       "├──────────────────────────────────────┼─────────────────────────────┼─────────────────┤\n",
       "│ dense_2 (\u001b[38;5;33mDense\u001b[0m)                      │ (\u001b[38;5;45mNone\u001b[0m, \u001b[38;5;34m1\u001b[0m)                   │              \u001b[38;5;34m17\u001b[0m │\n",
       "└──────────────────────────────────────┴─────────────────────────────┴─────────────────┘\n"
      ]
     },
     "metadata": {},
     "output_type": "display_data"
    },
    {
     "data": {
      "text/html": [
       "<pre style=\"white-space:pre;overflow-x:auto;line-height:normal;font-family:Menlo,'DejaVu Sans Mono',consolas,'Courier New',monospace\"><span style=\"font-weight: bold\"> Total params: </span><span style=\"color: #00af00; text-decoration-color: #00af00\">737</span> (2.88 KB)\n",
       "</pre>\n"
      ],
      "text/plain": [
       "\u001b[1m Total params: \u001b[0m\u001b[38;5;34m737\u001b[0m (2.88 KB)\n"
      ]
     },
     "metadata": {},
     "output_type": "display_data"
    },
    {
     "data": {
      "text/html": [
       "<pre style=\"white-space:pre;overflow-x:auto;line-height:normal;font-family:Menlo,'DejaVu Sans Mono',consolas,'Courier New',monospace\"><span style=\"font-weight: bold\"> Trainable params: </span><span style=\"color: #00af00; text-decoration-color: #00af00\">737</span> (2.88 KB)\n",
       "</pre>\n"
      ],
      "text/plain": [
       "\u001b[1m Trainable params: \u001b[0m\u001b[38;5;34m737\u001b[0m (2.88 KB)\n"
      ]
     },
     "metadata": {},
     "output_type": "display_data"
    },
    {
     "data": {
      "text/html": [
       "<pre style=\"white-space:pre;overflow-x:auto;line-height:normal;font-family:Menlo,'DejaVu Sans Mono',consolas,'Courier New',monospace\"><span style=\"font-weight: bold\"> Non-trainable params: </span><span style=\"color: #00af00; text-decoration-color: #00af00\">0</span> (0.00 B)\n",
       "</pre>\n"
      ],
      "text/plain": [
       "\u001b[1m Non-trainable params: \u001b[0m\u001b[38;5;34m0\u001b[0m (0.00 B)\n"
      ]
     },
     "metadata": {},
     "output_type": "display_data"
    },
    {
     "name": "stdout",
     "output_type": "stream",
     "text": [
      "--------------------------------------------------\n"
     ]
    }
   ],
   "source": [
    "import tensorflow as tf\n",
    "from tensorflow import keras\n",
    "from tensorflow.keras import layers\n",
    "\n",
    "# Inisialisasi model Sequential\n",
    "model = keras.Sequential([\n",
    "    layers.Input(shape=(X_train.shape[1],)), # Input shape sesuai jumlah fitur\n",
    "    layers.Dense(32, activation=\"relu\"),\n",
    "    layers.Dropout(0.3),\n",
    "    layers.Dense(16, activation=\"relu\"),\n",
    "    layers.Dense(1, activation=\"sigmoid\")  # Output 1 neuron dengan Sigmoid untuk klasifikasi biner\n",
    "])\n",
    "\n",
    "# Kompilasi model\n",
    "model.compile(optimizer=keras.optimizers.Adam(1e-3),\n",
    "              loss=\"binary_crossentropy\",\n",
    "              metrics=[\"accuracy\", \"AUC\"])\n",
    "\n",
    "print(\"Model Summary:\")\n",
    "model.summary()\n",
    "print(\"-\" * 50)\n"
   ]
  },
  {
   "cell_type": "code",
   "execution_count": 4,
   "id": "e1832355-fa0e-41f7-a80e-b3c2b1838694",
   "metadata": {},
   "outputs": [
    {
     "name": "stdout",
     "output_type": "stream",
     "text": [
      "Memulai Training Model...\n",
      "Epoch 1/100\n",
      "\u001b[1m1/1\u001b[0m \u001b[32m━━━━━━━━━━━━━━━━━━━━\u001b[0m\u001b[37m\u001b[0m \u001b[1m2s\u001b[0m 2s/step - AUC: 0.5556 - accuracy: 0.5000 - loss: 0.7024 - val_AUC: 1.0000 - val_accuracy: 1.0000 - val_loss: 0.6054\n",
      "Epoch 2/100\n",
      "\u001b[1m1/1\u001b[0m \u001b[32m━━━━━━━━━━━━━━━━━━━━\u001b[0m\u001b[37m\u001b[0m \u001b[1m0s\u001b[0m 133ms/step - AUC: 0.6667 - accuracy: 0.8333 - loss: 0.6312 - val_AUC: 1.0000 - val_accuracy: 1.0000 - val_loss: 0.5953\n",
      "Epoch 3/100\n",
      "\u001b[1m1/1\u001b[0m \u001b[32m━━━━━━━━━━━━━━━━━━━━\u001b[0m\u001b[37m\u001b[0m \u001b[1m0s\u001b[0m 121ms/step - AUC: 0.5556 - accuracy: 0.5000 - loss: 0.6741 - val_AUC: 1.0000 - val_accuracy: 1.0000 - val_loss: 0.5860\n",
      "Epoch 4/100\n",
      "\u001b[1m1/1\u001b[0m \u001b[32m━━━━━━━━━━━━━━━━━━━━\u001b[0m\u001b[37m\u001b[0m \u001b[1m0s\u001b[0m 114ms/step - AUC: 1.0000 - accuracy: 0.8333 - loss: 0.6212 - val_AUC: 1.0000 - val_accuracy: 1.0000 - val_loss: 0.5768\n",
      "Epoch 5/100\n",
      "\u001b[1m1/1\u001b[0m \u001b[32m━━━━━━━━━━━━━━━━━━━━\u001b[0m\u001b[37m\u001b[0m \u001b[1m0s\u001b[0m 128ms/step - AUC: 1.0000 - accuracy: 0.8333 - loss: 0.6054 - val_AUC: 1.0000 - val_accuracy: 1.0000 - val_loss: 0.5690\n",
      "Epoch 6/100\n",
      "\u001b[1m1/1\u001b[0m \u001b[32m━━━━━━━━━━━━━━━━━━━━\u001b[0m\u001b[37m\u001b[0m \u001b[1m0s\u001b[0m 141ms/step - AUC: 1.0000 - accuracy: 1.0000 - loss: 0.6350 - val_AUC: 1.0000 - val_accuracy: 1.0000 - val_loss: 0.5615\n",
      "Epoch 7/100\n",
      "\u001b[1m1/1\u001b[0m \u001b[32m━━━━━━━━━━━━━━━━━━━━\u001b[0m\u001b[37m\u001b[0m \u001b[1m0s\u001b[0m 137ms/step - AUC: 0.7778 - accuracy: 0.8333 - loss: 0.6068 - val_AUC: 1.0000 - val_accuracy: 1.0000 - val_loss: 0.5540\n",
      "Epoch 8/100\n",
      "\u001b[1m1/1\u001b[0m \u001b[32m━━━━━━━━━━━━━━━━━━━━\u001b[0m\u001b[37m\u001b[0m \u001b[1m0s\u001b[0m 172ms/step - AUC: 1.0000 - accuracy: 0.8333 - loss: 0.6157 - val_AUC: 1.0000 - val_accuracy: 1.0000 - val_loss: 0.5468\n",
      "Epoch 9/100\n",
      "\u001b[1m1/1\u001b[0m \u001b[32m━━━━━━━━━━━━━━━━━━━━\u001b[0m\u001b[37m\u001b[0m \u001b[1m0s\u001b[0m 111ms/step - AUC: 0.8889 - accuracy: 0.6667 - loss: 0.6086 - val_AUC: 1.0000 - val_accuracy: 1.0000 - val_loss: 0.5398\n",
      "Epoch 10/100\n",
      "\u001b[1m1/1\u001b[0m \u001b[32m━━━━━━━━━━━━━━━━━━━━\u001b[0m\u001b[37m\u001b[0m \u001b[1m0s\u001b[0m 114ms/step - AUC: 1.0000 - accuracy: 1.0000 - loss: 0.5474 - val_AUC: 1.0000 - val_accuracy: 1.0000 - val_loss: 0.5328\n",
      "Epoch 11/100\n",
      "\u001b[1m1/1\u001b[0m \u001b[32m━━━━━━━━━━━━━━━━━━━━\u001b[0m\u001b[37m\u001b[0m \u001b[1m0s\u001b[0m 122ms/step - AUC: 1.0000 - accuracy: 1.0000 - loss: 0.5408 - val_AUC: 1.0000 - val_accuracy: 1.0000 - val_loss: 0.5256\n",
      "Epoch 12/100\n",
      "\u001b[1m1/1\u001b[0m \u001b[32m━━━━━━━━━━━━━━━━━━━━\u001b[0m\u001b[37m\u001b[0m \u001b[1m0s\u001b[0m 96ms/step - AUC: 1.0000 - accuracy: 1.0000 - loss: 0.5483 - val_AUC: 1.0000 - val_accuracy: 1.0000 - val_loss: 0.5183\n",
      "Epoch 13/100\n",
      "\u001b[1m1/1\u001b[0m \u001b[32m━━━━━━━━━━━━━━━━━━━━\u001b[0m\u001b[37m\u001b[0m \u001b[1m0s\u001b[0m 99ms/step - AUC: 1.0000 - accuracy: 1.0000 - loss: 0.4823 - val_AUC: 1.0000 - val_accuracy: 1.0000 - val_loss: 0.5112\n",
      "Epoch 14/100\n",
      "\u001b[1m1/1\u001b[0m \u001b[32m━━━━━━━━━━━━━━━━━━━━\u001b[0m\u001b[37m\u001b[0m \u001b[1m0s\u001b[0m 135ms/step - AUC: 1.0000 - accuracy: 1.0000 - loss: 0.5056 - val_AUC: 1.0000 - val_accuracy: 1.0000 - val_loss: 0.5040\n",
      "Epoch 15/100\n",
      "\u001b[1m1/1\u001b[0m \u001b[32m━━━━━━━━━━━━━━━━━━━━\u001b[0m\u001b[37m\u001b[0m \u001b[1m0s\u001b[0m 144ms/step - AUC: 1.0000 - accuracy: 1.0000 - loss: 0.5526 - val_AUC: 1.0000 - val_accuracy: 1.0000 - val_loss: 0.4969\n",
      "Epoch 16/100\n",
      "\u001b[1m1/1\u001b[0m \u001b[32m━━━━━━━━━━━━━━━━━━━━\u001b[0m\u001b[37m\u001b[0m \u001b[1m0s\u001b[0m 128ms/step - AUC: 1.0000 - accuracy: 1.0000 - loss: 0.5066 - val_AUC: 1.0000 - val_accuracy: 1.0000 - val_loss: 0.4899\n",
      "Epoch 17/100\n",
      "\u001b[1m1/1\u001b[0m \u001b[32m━━━━━━━━━━━━━━━━━━━━\u001b[0m\u001b[37m\u001b[0m \u001b[1m0s\u001b[0m 109ms/step - AUC: 1.0000 - accuracy: 1.0000 - loss: 0.5154 - val_AUC: 1.0000 - val_accuracy: 1.0000 - val_loss: 0.4821\n",
      "Epoch 18/100\n",
      "\u001b[1m1/1\u001b[0m \u001b[32m━━━━━━━━━━━━━━━━━━━━\u001b[0m\u001b[37m\u001b[0m \u001b[1m0s\u001b[0m 104ms/step - AUC: 1.0000 - accuracy: 1.0000 - loss: 0.4997 - val_AUC: 1.0000 - val_accuracy: 1.0000 - val_loss: 0.4745\n",
      "Epoch 19/100\n",
      "\u001b[1m1/1\u001b[0m \u001b[32m━━━━━━━━━━━━━━━━━━━━\u001b[0m\u001b[37m\u001b[0m \u001b[1m0s\u001b[0m 119ms/step - AUC: 1.0000 - accuracy: 1.0000 - loss: 0.4575 - val_AUC: 1.0000 - val_accuracy: 1.0000 - val_loss: 0.4670\n",
      "Epoch 20/100\n",
      "\u001b[1m1/1\u001b[0m \u001b[32m━━━━━━━━━━━━━━━━━━━━\u001b[0m\u001b[37m\u001b[0m \u001b[1m0s\u001b[0m 122ms/step - AUC: 1.0000 - accuracy: 1.0000 - loss: 0.5078 - val_AUC: 1.0000 - val_accuracy: 1.0000 - val_loss: 0.4598\n",
      "Epoch 21/100\n",
      "\u001b[1m1/1\u001b[0m \u001b[32m━━━━━━━━━━━━━━━━━━━━\u001b[0m\u001b[37m\u001b[0m \u001b[1m0s\u001b[0m 123ms/step - AUC: 1.0000 - accuracy: 1.0000 - loss: 0.5087 - val_AUC: 1.0000 - val_accuracy: 1.0000 - val_loss: 0.4527\n",
      "Epoch 22/100\n",
      "\u001b[1m1/1\u001b[0m \u001b[32m━━━━━━━━━━━━━━━━━━━━\u001b[0m\u001b[37m\u001b[0m \u001b[1m0s\u001b[0m 123ms/step - AUC: 1.0000 - accuracy: 1.0000 - loss: 0.4454 - val_AUC: 1.0000 - val_accuracy: 1.0000 - val_loss: 0.4458\n",
      "Epoch 23/100\n",
      "\u001b[1m1/1\u001b[0m \u001b[32m━━━━━━━━━━━━━━━━━━━━\u001b[0m\u001b[37m\u001b[0m \u001b[1m0s\u001b[0m 131ms/step - AUC: 1.0000 - accuracy: 1.0000 - loss: 0.4844 - val_AUC: 1.0000 - val_accuracy: 1.0000 - val_loss: 0.4392\n",
      "Epoch 24/100\n",
      "\u001b[1m1/1\u001b[0m \u001b[32m━━━━━━━━━━━━━━━━━━━━\u001b[0m\u001b[37m\u001b[0m \u001b[1m0s\u001b[0m 121ms/step - AUC: 1.0000 - accuracy: 1.0000 - loss: 0.4976 - val_AUC: 1.0000 - val_accuracy: 1.0000 - val_loss: 0.4325\n",
      "Epoch 25/100\n",
      "\u001b[1m1/1\u001b[0m \u001b[32m━━━━━━━━━━━━━━━━━━━━\u001b[0m\u001b[37m\u001b[0m \u001b[1m0s\u001b[0m 118ms/step - AUC: 1.0000 - accuracy: 1.0000 - loss: 0.4728 - val_AUC: 1.0000 - val_accuracy: 1.0000 - val_loss: 0.4256\n",
      "Epoch 26/100\n",
      "\u001b[1m1/1\u001b[0m \u001b[32m━━━━━━━━━━━━━━━━━━━━\u001b[0m\u001b[37m\u001b[0m \u001b[1m0s\u001b[0m 118ms/step - AUC: 1.0000 - accuracy: 1.0000 - loss: 0.4070 - val_AUC: 1.0000 - val_accuracy: 1.0000 - val_loss: 0.4187\n",
      "Epoch 27/100\n",
      "\u001b[1m1/1\u001b[0m \u001b[32m━━━━━━━━━━━━━━━━━━━━\u001b[0m\u001b[37m\u001b[0m \u001b[1m0s\u001b[0m 113ms/step - AUC: 1.0000 - accuracy: 1.0000 - loss: 0.4094 - val_AUC: 1.0000 - val_accuracy: 1.0000 - val_loss: 0.4119\n",
      "Epoch 28/100\n",
      "\u001b[1m1/1\u001b[0m \u001b[32m━━━━━━━━━━━━━━━━━━━━\u001b[0m\u001b[37m\u001b[0m \u001b[1m0s\u001b[0m 116ms/step - AUC: 1.0000 - accuracy: 1.0000 - loss: 0.4009 - val_AUC: 1.0000 - val_accuracy: 1.0000 - val_loss: 0.4052\n",
      "Epoch 29/100\n",
      "\u001b[1m1/1\u001b[0m \u001b[32m━━━━━━━━━━━━━━━━━━━━\u001b[0m\u001b[37m\u001b[0m \u001b[1m0s\u001b[0m 117ms/step - AUC: 1.0000 - accuracy: 1.0000 - loss: 0.4352 - val_AUC: 1.0000 - val_accuracy: 1.0000 - val_loss: 0.3986\n",
      "Epoch 30/100\n",
      "\u001b[1m1/1\u001b[0m \u001b[32m━━━━━━━━━━━━━━━━━━━━\u001b[0m\u001b[37m\u001b[0m \u001b[1m0s\u001b[0m 151ms/step - AUC: 1.0000 - accuracy: 1.0000 - loss: 0.3928 - val_AUC: 1.0000 - val_accuracy: 1.0000 - val_loss: 0.3920\n",
      "Epoch 31/100\n",
      "\u001b[1m1/1\u001b[0m \u001b[32m━━━━━━━━━━━━━━━━━━━━\u001b[0m\u001b[37m\u001b[0m \u001b[1m0s\u001b[0m 111ms/step - AUC: 1.0000 - accuracy: 1.0000 - loss: 0.4096 - val_AUC: 1.0000 - val_accuracy: 1.0000 - val_loss: 0.3855\n",
      "Epoch 32/100\n",
      "\u001b[1m1/1\u001b[0m \u001b[32m━━━━━━━━━━━━━━━━━━━━\u001b[0m\u001b[37m\u001b[0m \u001b[1m0s\u001b[0m 119ms/step - AUC: 1.0000 - accuracy: 1.0000 - loss: 0.3870 - val_AUC: 1.0000 - val_accuracy: 1.0000 - val_loss: 0.3791\n",
      "Epoch 33/100\n",
      "\u001b[1m1/1\u001b[0m \u001b[32m━━━━━━━━━━━━━━━━━━━━\u001b[0m\u001b[37m\u001b[0m \u001b[1m0s\u001b[0m 118ms/step - AUC: 1.0000 - accuracy: 1.0000 - loss: 0.4396 - val_AUC: 1.0000 - val_accuracy: 1.0000 - val_loss: 0.3728\n",
      "Epoch 34/100\n",
      "\u001b[1m1/1\u001b[0m \u001b[32m━━━━━━━━━━━━━━━━━━━━\u001b[0m\u001b[37m\u001b[0m \u001b[1m0s\u001b[0m 112ms/step - AUC: 1.0000 - accuracy: 1.0000 - loss: 0.3880 - val_AUC: 1.0000 - val_accuracy: 1.0000 - val_loss: 0.3667\n",
      "Epoch 35/100\n",
      "\u001b[1m1/1\u001b[0m \u001b[32m━━━━━━━━━━━━━━━━━━━━\u001b[0m\u001b[37m\u001b[0m \u001b[1m0s\u001b[0m 119ms/step - AUC: 1.0000 - accuracy: 1.0000 - loss: 0.3934 - val_AUC: 1.0000 - val_accuracy: 1.0000 - val_loss: 0.3604\n",
      "Epoch 36/100\n",
      "\u001b[1m1/1\u001b[0m \u001b[32m━━━━━━━━━━━━━━━━━━━━\u001b[0m\u001b[37m\u001b[0m \u001b[1m0s\u001b[0m 113ms/step - AUC: 1.0000 - accuracy: 1.0000 - loss: 0.3526 - val_AUC: 1.0000 - val_accuracy: 1.0000 - val_loss: 0.3542\n",
      "Epoch 37/100\n",
      "\u001b[1m1/1\u001b[0m \u001b[32m━━━━━━━━━━━━━━━━━━━━\u001b[0m\u001b[37m\u001b[0m \u001b[1m0s\u001b[0m 119ms/step - AUC: 1.0000 - accuracy: 1.0000 - loss: 0.3784 - val_AUC: 1.0000 - val_accuracy: 1.0000 - val_loss: 0.3479\n",
      "Epoch 38/100\n",
      "\u001b[1m1/1\u001b[0m \u001b[32m━━━━━━━━━━━━━━━━━━━━\u001b[0m\u001b[37m\u001b[0m \u001b[1m0s\u001b[0m 115ms/step - AUC: 1.0000 - accuracy: 1.0000 - loss: 0.3877 - val_AUC: 1.0000 - val_accuracy: 1.0000 - val_loss: 0.3419\n",
      "Epoch 39/100\n",
      "\u001b[1m1/1\u001b[0m \u001b[32m━━━━━━━━━━━━━━━━━━━━\u001b[0m\u001b[37m\u001b[0m \u001b[1m0s\u001b[0m 122ms/step - AUC: 1.0000 - accuracy: 1.0000 - loss: 0.3644 - val_AUC: 1.0000 - val_accuracy: 1.0000 - val_loss: 0.3360\n",
      "Epoch 40/100\n",
      "\u001b[1m1/1\u001b[0m \u001b[32m━━━━━━━━━━━━━━━━━━━━\u001b[0m\u001b[37m\u001b[0m \u001b[1m0s\u001b[0m 118ms/step - AUC: 1.0000 - accuracy: 1.0000 - loss: 0.3227 - val_AUC: 1.0000 - val_accuracy: 1.0000 - val_loss: 0.3303\n",
      "Epoch 41/100\n",
      "\u001b[1m1/1\u001b[0m \u001b[32m━━━━━━━━━━━━━━━━━━━━\u001b[0m\u001b[37m\u001b[0m \u001b[1m0s\u001b[0m 117ms/step - AUC: 1.0000 - accuracy: 1.0000 - loss: 0.3681 - val_AUC: 1.0000 - val_accuracy: 1.0000 - val_loss: 0.3246\n",
      "Epoch 42/100\n",
      "\u001b[1m1/1\u001b[0m \u001b[32m━━━━━━━━━━━━━━━━━━━━\u001b[0m\u001b[37m\u001b[0m \u001b[1m0s\u001b[0m 128ms/step - AUC: 1.0000 - accuracy: 1.0000 - loss: 0.4485 - val_AUC: 1.0000 - val_accuracy: 1.0000 - val_loss: 0.3189\n",
      "Epoch 43/100\n",
      "\u001b[1m1/1\u001b[0m \u001b[32m━━━━━━━━━━━━━━━━━━━━\u001b[0m\u001b[37m\u001b[0m \u001b[1m0s\u001b[0m 111ms/step - AUC: 1.0000 - accuracy: 1.0000 - loss: 0.3197 - val_AUC: 1.0000 - val_accuracy: 1.0000 - val_loss: 0.3133\n",
      "Epoch 44/100\n",
      "\u001b[1m1/1\u001b[0m \u001b[32m━━━━━━━━━━━━━━━━━━━━\u001b[0m\u001b[37m\u001b[0m \u001b[1m0s\u001b[0m 115ms/step - AUC: 1.0000 - accuracy: 1.0000 - loss: 0.3432 - val_AUC: 1.0000 - val_accuracy: 1.0000 - val_loss: 0.3076\n",
      "Epoch 45/100\n",
      "\u001b[1m1/1\u001b[0m \u001b[32m━━━━━━━━━━━━━━━━━━━━\u001b[0m\u001b[37m\u001b[0m \u001b[1m0s\u001b[0m 115ms/step - AUC: 1.0000 - accuracy: 1.0000 - loss: 0.3026 - val_AUC: 1.0000 - val_accuracy: 1.0000 - val_loss: 0.3019\n",
      "Epoch 46/100\n",
      "\u001b[1m1/1\u001b[0m \u001b[32m━━━━━━━━━━━━━━━━━━━━\u001b[0m\u001b[37m\u001b[0m \u001b[1m0s\u001b[0m 115ms/step - AUC: 1.0000 - accuracy: 1.0000 - loss: 0.3126 - val_AUC: 1.0000 - val_accuracy: 1.0000 - val_loss: 0.2961\n",
      "Epoch 47/100\n",
      "\u001b[1m1/1\u001b[0m \u001b[32m━━━━━━━━━━━━━━━━━━━━\u001b[0m\u001b[37m\u001b[0m \u001b[1m0s\u001b[0m 116ms/step - AUC: 1.0000 - accuracy: 1.0000 - loss: 0.3109 - val_AUC: 1.0000 - val_accuracy: 1.0000 - val_loss: 0.2903\n",
      "Epoch 48/100\n",
      "\u001b[1m1/1\u001b[0m \u001b[32m━━━━━━━━━━━━━━━━━━━━\u001b[0m\u001b[37m\u001b[0m \u001b[1m0s\u001b[0m 120ms/step - AUC: 1.0000 - accuracy: 1.0000 - loss: 0.3592 - val_AUC: 1.0000 - val_accuracy: 1.0000 - val_loss: 0.2845\n",
      "Epoch 49/100\n",
      "\u001b[1m1/1\u001b[0m \u001b[32m━━━━━━━━━━━━━━━━━━━━\u001b[0m\u001b[37m\u001b[0m \u001b[1m0s\u001b[0m 114ms/step - AUC: 1.0000 - accuracy: 1.0000 - loss: 0.3892 - val_AUC: 1.0000 - val_accuracy: 1.0000 - val_loss: 0.2787\n",
      "Epoch 50/100\n",
      "\u001b[1m1/1\u001b[0m \u001b[32m━━━━━━━━━━━━━━━━━━━━\u001b[0m\u001b[37m\u001b[0m \u001b[1m0s\u001b[0m 116ms/step - AUC: 1.0000 - accuracy: 1.0000 - loss: 0.2801 - val_AUC: 1.0000 - val_accuracy: 1.0000 - val_loss: 0.2730\n",
      "Epoch 51/100\n",
      "\u001b[1m1/1\u001b[0m \u001b[32m━━━━━━━━━━━━━━━━━━━━\u001b[0m\u001b[37m\u001b[0m \u001b[1m0s\u001b[0m 142ms/step - AUC: 1.0000 - accuracy: 1.0000 - loss: 0.2661 - val_AUC: 1.0000 - val_accuracy: 1.0000 - val_loss: 0.2675\n",
      "Epoch 52/100\n",
      "\u001b[1m1/1\u001b[0m \u001b[32m━━━━━━━━━━━━━━━━━━━━\u001b[0m\u001b[37m\u001b[0m \u001b[1m0s\u001b[0m 112ms/step - AUC: 1.0000 - accuracy: 1.0000 - loss: 0.2979 - val_AUC: 1.0000 - val_accuracy: 1.0000 - val_loss: 0.2620\n",
      "Epoch 53/100\n",
      "\u001b[1m1/1\u001b[0m \u001b[32m━━━━━━━━━━━━━━━━━━━━\u001b[0m\u001b[37m\u001b[0m \u001b[1m0s\u001b[0m 114ms/step - AUC: 1.0000 - accuracy: 1.0000 - loss: 0.2802 - val_AUC: 1.0000 - val_accuracy: 1.0000 - val_loss: 0.2564\n",
      "Epoch 54/100\n",
      "\u001b[1m1/1\u001b[0m \u001b[32m━━━━━━━━━━━━━━━━━━━━\u001b[0m\u001b[37m\u001b[0m \u001b[1m0s\u001b[0m 118ms/step - AUC: 1.0000 - accuracy: 1.0000 - loss: 0.2812 - val_AUC: 1.0000 - val_accuracy: 1.0000 - val_loss: 0.2510\n",
      "Epoch 55/100\n",
      "\u001b[1m1/1\u001b[0m \u001b[32m━━━━━━━━━━━━━━━━━━━━\u001b[0m\u001b[37m\u001b[0m \u001b[1m0s\u001b[0m 115ms/step - AUC: 1.0000 - accuracy: 1.0000 - loss: 0.3451 - val_AUC: 1.0000 - val_accuracy: 1.0000 - val_loss: 0.2457\n",
      "Epoch 56/100\n",
      "\u001b[1m1/1\u001b[0m \u001b[32m━━━━━━━━━━━━━━━━━━━━\u001b[0m\u001b[37m\u001b[0m \u001b[1m0s\u001b[0m 128ms/step - AUC: 1.0000 - accuracy: 1.0000 - loss: 0.3025 - val_AUC: 1.0000 - val_accuracy: 1.0000 - val_loss: 0.2404\n",
      "Epoch 57/100\n",
      "\u001b[1m1/1\u001b[0m \u001b[32m━━━━━━━━━━━━━━━━━━━━\u001b[0m\u001b[37m\u001b[0m \u001b[1m0s\u001b[0m 120ms/step - AUC: 1.0000 - accuracy: 1.0000 - loss: 0.2559 - val_AUC: 1.0000 - val_accuracy: 1.0000 - val_loss: 0.2351\n",
      "Epoch 58/100\n",
      "\u001b[1m1/1\u001b[0m \u001b[32m━━━━━━━━━━━━━━━━━━━━\u001b[0m\u001b[37m\u001b[0m \u001b[1m0s\u001b[0m 120ms/step - AUC: 1.0000 - accuracy: 1.0000 - loss: 0.3173 - val_AUC: 1.0000 - val_accuracy: 1.0000 - val_loss: 0.2299\n",
      "Epoch 59/100\n",
      "\u001b[1m1/1\u001b[0m \u001b[32m━━━━━━━━━━━━━━━━━━━━\u001b[0m\u001b[37m\u001b[0m \u001b[1m0s\u001b[0m 112ms/step - AUC: 1.0000 - accuracy: 1.0000 - loss: 0.2167 - val_AUC: 1.0000 - val_accuracy: 1.0000 - val_loss: 0.2246\n",
      "Epoch 60/100\n",
      "\u001b[1m1/1\u001b[0m \u001b[32m━━━━━━━━━━━━━━━━━━━━\u001b[0m\u001b[37m\u001b[0m \u001b[1m0s\u001b[0m 115ms/step - AUC: 1.0000 - accuracy: 1.0000 - loss: 0.2132 - val_AUC: 1.0000 - val_accuracy: 1.0000 - val_loss: 0.2192\n",
      "Epoch 61/100\n",
      "\u001b[1m1/1\u001b[0m \u001b[32m━━━━━━━━━━━━━━━━━━━━\u001b[0m\u001b[37m\u001b[0m \u001b[1m0s\u001b[0m 119ms/step - AUC: 1.0000 - accuracy: 1.0000 - loss: 0.2406 - val_AUC: 1.0000 - val_accuracy: 1.0000 - val_loss: 0.2138\n",
      "Epoch 62/100\n",
      "\u001b[1m1/1\u001b[0m \u001b[32m━━━━━━━━━━━━━━━━━━━━\u001b[0m\u001b[37m\u001b[0m \u001b[1m0s\u001b[0m 116ms/step - AUC: 1.0000 - accuracy: 1.0000 - loss: 0.2412 - val_AUC: 1.0000 - val_accuracy: 1.0000 - val_loss: 0.2085\n",
      "Epoch 63/100\n",
      "\u001b[1m1/1\u001b[0m \u001b[32m━━━━━━━━━━━━━━━━━━━━\u001b[0m\u001b[37m\u001b[0m \u001b[1m0s\u001b[0m 111ms/step - AUC: 1.0000 - accuracy: 1.0000 - loss: 0.2689 - val_AUC: 1.0000 - val_accuracy: 1.0000 - val_loss: 0.2033\n",
      "Epoch 64/100\n",
      "\u001b[1m1/1\u001b[0m \u001b[32m━━━━━━━━━━━━━━━━━━━━\u001b[0m\u001b[37m\u001b[0m \u001b[1m0s\u001b[0m 118ms/step - AUC: 1.0000 - accuracy: 1.0000 - loss: 0.2802 - val_AUC: 1.0000 - val_accuracy: 1.0000 - val_loss: 0.1981\n",
      "Epoch 65/100\n",
      "\u001b[1m1/1\u001b[0m \u001b[32m━━━━━━━━━━━━━━━━━━━━\u001b[0m\u001b[37m\u001b[0m \u001b[1m0s\u001b[0m 123ms/step - AUC: 1.0000 - accuracy: 1.0000 - loss: 0.2662 - val_AUC: 1.0000 - val_accuracy: 1.0000 - val_loss: 0.1931\n",
      "Epoch 66/100\n",
      "\u001b[1m1/1\u001b[0m \u001b[32m━━━━━━━━━━━━━━━━━━━━\u001b[0m\u001b[37m\u001b[0m \u001b[1m0s\u001b[0m 123ms/step - AUC: 1.0000 - accuracy: 1.0000 - loss: 0.2036 - val_AUC: 1.0000 - val_accuracy: 1.0000 - val_loss: 0.1882\n",
      "Epoch 67/100\n",
      "\u001b[1m1/1\u001b[0m \u001b[32m━━━━━━━━━━━━━━━━━━━━\u001b[0m\u001b[37m\u001b[0m \u001b[1m0s\u001b[0m 125ms/step - AUC: 1.0000 - accuracy: 1.0000 - loss: 0.2156 - val_AUC: 1.0000 - val_accuracy: 1.0000 - val_loss: 0.1834\n",
      "Epoch 68/100\n",
      "\u001b[1m1/1\u001b[0m \u001b[32m━━━━━━━━━━━━━━━━━━━━\u001b[0m\u001b[37m\u001b[0m \u001b[1m0s\u001b[0m 109ms/step - AUC: 1.0000 - accuracy: 1.0000 - loss: 0.2184 - val_AUC: 1.0000 - val_accuracy: 1.0000 - val_loss: 0.1787\n",
      "Epoch 69/100\n",
      "\u001b[1m1/1\u001b[0m \u001b[32m━━━━━━━━━━━━━━━━━━━━\u001b[0m\u001b[37m\u001b[0m \u001b[1m0s\u001b[0m 117ms/step - AUC: 1.0000 - accuracy: 1.0000 - loss: 0.1861 - val_AUC: 1.0000 - val_accuracy: 1.0000 - val_loss: 0.1741\n",
      "Epoch 70/100\n",
      "\u001b[1m1/1\u001b[0m \u001b[32m━━━━━━━━━━━━━━━━━━━━\u001b[0m\u001b[37m\u001b[0m \u001b[1m0s\u001b[0m 113ms/step - AUC: 1.0000 - accuracy: 1.0000 - loss: 0.2293 - val_AUC: 1.0000 - val_accuracy: 1.0000 - val_loss: 0.1696\n",
      "Epoch 71/100\n",
      "\u001b[1m1/1\u001b[0m \u001b[32m━━━━━━━━━━━━━━━━━━━━\u001b[0m\u001b[37m\u001b[0m \u001b[1m0s\u001b[0m 113ms/step - AUC: 1.0000 - accuracy: 1.0000 - loss: 0.2422 - val_AUC: 1.0000 - val_accuracy: 1.0000 - val_loss: 0.1651\n",
      "Epoch 72/100\n",
      "\u001b[1m1/1\u001b[0m \u001b[32m━━━━━━━━━━━━━━━━━━━━\u001b[0m\u001b[37m\u001b[0m \u001b[1m0s\u001b[0m 145ms/step - AUC: 1.0000 - accuracy: 1.0000 - loss: 0.1844 - val_AUC: 1.0000 - val_accuracy: 1.0000 - val_loss: 0.1607\n",
      "Epoch 73/100\n",
      "\u001b[1m1/1\u001b[0m \u001b[32m━━━━━━━━━━━━━━━━━━━━\u001b[0m\u001b[37m\u001b[0m \u001b[1m0s\u001b[0m 104ms/step - AUC: 1.0000 - accuracy: 1.0000 - loss: 0.1971 - val_AUC: 1.0000 - val_accuracy: 1.0000 - val_loss: 0.1564\n",
      "Epoch 74/100\n",
      "\u001b[1m1/1\u001b[0m \u001b[32m━━━━━━━━━━━━━━━━━━━━\u001b[0m\u001b[37m\u001b[0m \u001b[1m0s\u001b[0m 131ms/step - AUC: 1.0000 - accuracy: 1.0000 - loss: 0.2279 - val_AUC: 1.0000 - val_accuracy: 1.0000 - val_loss: 0.1523\n",
      "Epoch 75/100\n",
      "\u001b[1m1/1\u001b[0m \u001b[32m━━━━━━━━━━━━━━━━━━━━\u001b[0m\u001b[37m\u001b[0m \u001b[1m0s\u001b[0m 119ms/step - AUC: 1.0000 - accuracy: 1.0000 - loss: 0.2219 - val_AUC: 1.0000 - val_accuracy: 1.0000 - val_loss: 0.1483\n",
      "Epoch 76/100\n",
      "\u001b[1m1/1\u001b[0m \u001b[32m━━━━━━━━━━━━━━━━━━━━\u001b[0m\u001b[37m\u001b[0m \u001b[1m0s\u001b[0m 117ms/step - AUC: 1.0000 - accuracy: 1.0000 - loss: 0.1802 - val_AUC: 1.0000 - val_accuracy: 1.0000 - val_loss: 0.1443\n",
      "Epoch 77/100\n",
      "\u001b[1m1/1\u001b[0m \u001b[32m━━━━━━━━━━━━━━━━━━━━\u001b[0m\u001b[37m\u001b[0m \u001b[1m0s\u001b[0m 117ms/step - AUC: 1.0000 - accuracy: 1.0000 - loss: 0.2211 - val_AUC: 1.0000 - val_accuracy: 1.0000 - val_loss: 0.1404\n",
      "Epoch 78/100\n",
      "\u001b[1m1/1\u001b[0m \u001b[32m━━━━━━━━━━━━━━━━━━━━\u001b[0m\u001b[37m\u001b[0m \u001b[1m0s\u001b[0m 111ms/step - AUC: 1.0000 - accuracy: 1.0000 - loss: 0.1795 - val_AUC: 1.0000 - val_accuracy: 1.0000 - val_loss: 0.1366\n",
      "Epoch 79/100\n",
      "\u001b[1m1/1\u001b[0m \u001b[32m━━━━━━━━━━━━━━━━━━━━\u001b[0m\u001b[37m\u001b[0m \u001b[1m0s\u001b[0m 111ms/step - AUC: 1.0000 - accuracy: 1.0000 - loss: 0.1642 - val_AUC: 1.0000 - val_accuracy: 1.0000 - val_loss: 0.1329\n",
      "Epoch 80/100\n",
      "\u001b[1m1/1\u001b[0m \u001b[32m━━━━━━━━━━━━━━━━━━━━\u001b[0m\u001b[37m\u001b[0m \u001b[1m0s\u001b[0m 112ms/step - AUC: 1.0000 - accuracy: 1.0000 - loss: 0.1842 - val_AUC: 1.0000 - val_accuracy: 1.0000 - val_loss: 0.1293\n",
      "Epoch 81/100\n",
      "\u001b[1m1/1\u001b[0m \u001b[32m━━━━━━━━━━━━━━━━━━━━\u001b[0m\u001b[37m\u001b[0m \u001b[1m0s\u001b[0m 112ms/step - AUC: 1.0000 - accuracy: 1.0000 - loss: 0.1598 - val_AUC: 1.0000 - val_accuracy: 1.0000 - val_loss: 0.1258\n",
      "Epoch 82/100\n",
      "\u001b[1m1/1\u001b[0m \u001b[32m━━━━━━━━━━━━━━━━━━━━\u001b[0m\u001b[37m\u001b[0m \u001b[1m0s\u001b[0m 108ms/step - AUC: 1.0000 - accuracy: 1.0000 - loss: 0.1918 - val_AUC: 1.0000 - val_accuracy: 1.0000 - val_loss: 0.1225\n",
      "Epoch 83/100\n",
      "\u001b[1m1/1\u001b[0m \u001b[32m━━━━━━━━━━━━━━━━━━━━\u001b[0m\u001b[37m\u001b[0m \u001b[1m0s\u001b[0m 113ms/step - AUC: 1.0000 - accuracy: 1.0000 - loss: 0.1338 - val_AUC: 1.0000 - val_accuracy: 1.0000 - val_loss: 0.1192\n",
      "Epoch 84/100\n",
      "\u001b[1m1/1\u001b[0m \u001b[32m━━━━━━━━━━━━━━━━━━━━\u001b[0m\u001b[37m\u001b[0m \u001b[1m0s\u001b[0m 106ms/step - AUC: 1.0000 - accuracy: 1.0000 - loss: 0.2225 - val_AUC: 1.0000 - val_accuracy: 1.0000 - val_loss: 0.1160\n",
      "Epoch 85/100\n",
      "\u001b[1m1/1\u001b[0m \u001b[32m━━━━━━━━━━━━━━━━━━━━\u001b[0m\u001b[37m\u001b[0m \u001b[1m0s\u001b[0m 113ms/step - AUC: 1.0000 - accuracy: 1.0000 - loss: 0.1500 - val_AUC: 1.0000 - val_accuracy: 1.0000 - val_loss: 0.1129\n",
      "Epoch 86/100\n",
      "\u001b[1m1/1\u001b[0m \u001b[32m━━━━━━━━━━━━━━━━━━━━\u001b[0m\u001b[37m\u001b[0m \u001b[1m0s\u001b[0m 109ms/step - AUC: 1.0000 - accuracy: 1.0000 - loss: 0.1589 - val_AUC: 1.0000 - val_accuracy: 1.0000 - val_loss: 0.1099\n",
      "Epoch 87/100\n",
      "\u001b[1m1/1\u001b[0m \u001b[32m━━━━━━━━━━━━━━━━━━━━\u001b[0m\u001b[37m\u001b[0m \u001b[1m0s\u001b[0m 108ms/step - AUC: 1.0000 - accuracy: 1.0000 - loss: 0.1464 - val_AUC: 1.0000 - val_accuracy: 1.0000 - val_loss: 0.1069\n",
      "Epoch 88/100\n",
      "\u001b[1m1/1\u001b[0m \u001b[32m━━━━━━━━━━━━━━━━━━━━\u001b[0m\u001b[37m\u001b[0m \u001b[1m0s\u001b[0m 112ms/step - AUC: 1.0000 - accuracy: 1.0000 - loss: 0.1220 - val_AUC: 1.0000 - val_accuracy: 1.0000 - val_loss: 0.1040\n",
      "Epoch 89/100\n",
      "\u001b[1m1/1\u001b[0m \u001b[32m━━━━━━━━━━━━━━━━━━━━\u001b[0m\u001b[37m\u001b[0m \u001b[1m0s\u001b[0m 115ms/step - AUC: 1.0000 - accuracy: 1.0000 - loss: 0.1707 - val_AUC: 1.0000 - val_accuracy: 1.0000 - val_loss: 0.1012\n",
      "Epoch 90/100\n",
      "\u001b[1m1/1\u001b[0m \u001b[32m━━━━━━━━━━━━━━━━━━━━\u001b[0m\u001b[37m\u001b[0m \u001b[1m0s\u001b[0m 124ms/step - AUC: 1.0000 - accuracy: 1.0000 - loss: 0.1419 - val_AUC: 1.0000 - val_accuracy: 1.0000 - val_loss: 0.0984\n",
      "Epoch 91/100\n",
      "\u001b[1m1/1\u001b[0m \u001b[32m━━━━━━━━━━━━━━━━━━━━\u001b[0m\u001b[37m\u001b[0m \u001b[1m0s\u001b[0m 130ms/step - AUC: 1.0000 - accuracy: 1.0000 - loss: 0.1477 - val_AUC: 1.0000 - val_accuracy: 1.0000 - val_loss: 0.0957\n",
      "Epoch 92/100\n",
      "\u001b[1m1/1\u001b[0m \u001b[32m━━━━━━━━━━━━━━━━━━━━\u001b[0m\u001b[37m\u001b[0m \u001b[1m0s\u001b[0m 118ms/step - AUC: 1.0000 - accuracy: 1.0000 - loss: 0.1526 - val_AUC: 1.0000 - val_accuracy: 1.0000 - val_loss: 0.0931\n",
      "Epoch 93/100\n",
      "\u001b[1m1/1\u001b[0m \u001b[32m━━━━━━━━━━━━━━━━━━━━\u001b[0m\u001b[37m\u001b[0m \u001b[1m0s\u001b[0m 134ms/step - AUC: 1.0000 - accuracy: 1.0000 - loss: 0.1276 - val_AUC: 1.0000 - val_accuracy: 1.0000 - val_loss: 0.0906\n",
      "Epoch 94/100\n",
      "\u001b[1m1/1\u001b[0m \u001b[32m━━━━━━━━━━━━━━━━━━━━\u001b[0m\u001b[37m\u001b[0m \u001b[1m0s\u001b[0m 134ms/step - AUC: 1.0000 - accuracy: 1.0000 - loss: 0.1526 - val_AUC: 1.0000 - val_accuracy: 1.0000 - val_loss: 0.0881\n",
      "Epoch 95/100\n",
      "\u001b[1m1/1\u001b[0m \u001b[32m━━━━━━━━━━━━━━━━━━━━\u001b[0m\u001b[37m\u001b[0m \u001b[1m0s\u001b[0m 125ms/step - AUC: 1.0000 - accuracy: 1.0000 - loss: 0.1435 - val_AUC: 1.0000 - val_accuracy: 1.0000 - val_loss: 0.0857\n",
      "Epoch 96/100\n",
      "\u001b[1m1/1\u001b[0m \u001b[32m━━━━━━━━━━━━━━━━━━━━\u001b[0m\u001b[37m\u001b[0m \u001b[1m0s\u001b[0m 119ms/step - AUC: 1.0000 - accuracy: 1.0000 - loss: 0.1485 - val_AUC: 1.0000 - val_accuracy: 1.0000 - val_loss: 0.0833\n",
      "Epoch 97/100\n",
      "\u001b[1m1/1\u001b[0m \u001b[32m━━━━━━━━━━━━━━━━━━━━\u001b[0m\u001b[37m\u001b[0m \u001b[1m0s\u001b[0m 122ms/step - AUC: 1.0000 - accuracy: 1.0000 - loss: 0.1215 - val_AUC: 1.0000 - val_accuracy: 1.0000 - val_loss: 0.0810\n",
      "Epoch 98/100\n",
      "\u001b[1m1/1\u001b[0m \u001b[32m━━━━━━━━━━━━━━━━━━━━\u001b[0m\u001b[37m\u001b[0m \u001b[1m0s\u001b[0m 116ms/step - AUC: 1.0000 - accuracy: 1.0000 - loss: 0.0823 - val_AUC: 1.0000 - val_accuracy: 1.0000 - val_loss: 0.0789\n",
      "Epoch 99/100\n",
      "\u001b[1m1/1\u001b[0m \u001b[32m━━━━━━━━━━━━━━━━━━━━\u001b[0m\u001b[37m\u001b[0m \u001b[1m0s\u001b[0m 110ms/step - AUC: 1.0000 - accuracy: 1.0000 - loss: 0.1190 - val_AUC: 1.0000 - val_accuracy: 1.0000 - val_loss: 0.0767\n",
      "Epoch 100/100\n",
      "\u001b[1m1/1\u001b[0m \u001b[32m━━━━━━━━━━━━━━━━━━━━\u001b[0m\u001b[37m\u001b[0m \u001b[1m0s\u001b[0m 117ms/step - AUC: 1.0000 - accuracy: 1.0000 - loss: 0.1250 - val_AUC: 1.0000 - val_accuracy: 1.0000 - val_loss: 0.0747\n",
      "Training Selesai.\n",
      "--------------------------------------------------\n"
     ]
    }
   ],
   "source": [
    "es = keras.callbacks.EarlyStopping(\n",
    "    monitor=\"val_loss\", patience=10, restore_best_weights=True\n",
    ")\n",
    "\n",
    "print(\"Memulai Training Model...\")\n",
    "history = model.fit(\n",
    "    X_train, y_train,\n",
    "    validation_data=(X_val, y_val),\n",
    "    epochs=100,\n",
    "    batch_size=32,\n",
    "    callbacks=[es],\n",
    "    verbose=1\n",
    ")\n",
    "print(\"Training Selesai.\")\n",
    "print(\"-\" * 50)"
   ]
  },
  {
   "cell_type": "code",
   "execution_count": 5,
   "id": "4afefe54-bf23-4025-a649-5e98f3a7298a",
   "metadata": {},
   "outputs": [
    {
     "name": "stdout",
     "output_type": "stream",
     "text": [
      "Evaluasi di Test Set:\n",
      "Test Loss: 0.0916, Test Accuracy: 1.0000, Test AUC: 1.0000\n",
      "\u001b[1m1/1\u001b[0m \u001b[32m━━━━━━━━━━━━━━━━━━━━\u001b[0m\u001b[37m\u001b[0m \u001b[1m0s\u001b[0m 73ms/step\n",
      "\n",
      "Confusion Matrix:\n",
      "[[1 0]\n",
      " [0 1]]\n",
      "\n",
      "Classification Report (F1, Precision, Recall):\n",
      "              precision    recall  f1-score   support\n",
      "\n",
      "           0      1.000     1.000     1.000         1\n",
      "           1      1.000     1.000     1.000         1\n",
      "\n",
      "    accuracy                          1.000         2\n",
      "   macro avg      1.000     1.000     1.000         2\n",
      "weighted avg      1.000     1.000     1.000         2\n",
      "\n",
      "--------------------------------------------------\n"
     ]
    }
   ],
   "source": [
    "from sklearn.metrics import classification_report, confusion_matrix\n",
    "\n",
    "print(\"Evaluasi di Test Set:\")\n",
    "# Evaluasi metrik loss, akurasi, dan AUC\n",
    "loss, acc, auc = model.evaluate(X_test, y_test, verbose=0)\n",
    "print(f\"Test Loss: {loss:.4f}, Test Accuracy: {acc:.4f}, Test AUC: {auc:.4f}\")\n",
    "\n",
    "# Prediksi probabilitas dan konversi ke kelas biner (threshold 0.5)\n",
    "y_proba = model.predict(X_test).ravel()\n",
    "y_pred = (y_proba >= 0.5).astype(int)\n",
    "\n",
    "# Tampilkan Confusion Matrix dan Classification Report (dengan F1-score)\n",
    "print(\"\\nConfusion Matrix:\")\n",
    "print(confusion_matrix(y_test, y_pred))\n",
    "\n",
    "print(\"\\nClassification Report (F1, Precision, Recall):\")\n",
    "print(classification_report(y_test, y_pred, digits=3))\n",
    "print(\"-\" * 50)\n"
   ]
  },
  {
   "cell_type": "code",
   "execution_count": 6,
   "id": "8c3ac08b-81f9-474c-a268-ed85927f3abb",
   "metadata": {},
   "outputs": [
    {
     "name": "stdout",
     "output_type": "stream",
     "text": [
      "Learning curve telah disimpan sebagai 'learning_curve.png'.\n",
      "--------------------------------------------------\n"
     ]
    },
    {
     "data": {
      "image/png": "[encoded data removed]",
      "text/plain": [
       "<Figure size 800x500 with 1 Axes>"
      ]
     },
     "metadata": {},
     "output_type": "display_data"
    }
   ],
   "source": [
    "import matplotlib.pyplot as plt\n",
    "\n",
    "plt.figure(figsize=(8, 5))\n",
    "plt.plot(history.history[\"loss\"], label=\"Train Loss\")\n",
    "plt.plot(history.history[\"val_loss\"], label=\"Val Loss\")\n",
    "plt.xlabel(\"Epoch\")\n",
    "plt.ylabel(\"Loss\")\n",
    "plt.title(\"Learning Curve (Loss)\")\n",
    "plt.legend()\n",
    "plt.tight_layout()\n",
    "plt.savefig(\"learning_curve.png\", dpi=120)\n",
    "# plt.show() # Uncomment jika dijalankan di environment interaktif\n",
    "print(\"Learning curve telah disimpan sebagai 'learning_curve.png'.\")\n",
    "print(\"-\" * 50)"
   ]
  },
  {
   "cell_type": "code",
   "execution_count": null,
   "id": "a0b68487-5dea-4835-b085-861cb4348cad",
   "metadata": {},
   "outputs": [],
   "source": []
  }
 ],
 "metadata": {
  "kernelspec": {
   "display_name": "Python 3 (ipykernel)",
   "language": "python",
   "name": "python3"
  },
  "language_info": {
   "codemirror_mode": {
    "name": "ipython",
    "version": 3
   },
   "file_extension": ".py",
   "mimetype": "text/x-python",
   "name": "python",
   "nbconvert_exporter": "python",
   "pygments_lexer": "ipython3",
   "version": "3.12.4"
  }
 },
 "nbformat": 4,
 "nbformat_minor": 5
}
